{
  "nbformat": 4,
  "nbformat_minor": 0,
  "metadata": {
    "colab": {
      "provenance": []
    },
    "kernelspec": {
      "name": "python3",
      "display_name": "Python 3"
    },
    "language_info": {
      "name": "python"
    }
  },
  "cells": [
    {
      "cell_type": "markdown",
      "source": [
        "### Disclaimer\n",
        "\n",
        "Esta aula é baseada no material disponibilizado pelo professor Jones Granatyr - IA Expert Academy.\n"
      ],
      "metadata": {
        "id": "kMoRc_RP2o_p"
      }
    },
    {
      "cell_type": "code",
      "source": [
        "import time\n",
        "import random\n",
        "import math\n",
        "import sys"
      ],
      "metadata": {
        "id": "M_V4oF3hdtg4"
      },
      "execution_count": 1,
      "outputs": []
    },
    {
      "cell_type": "code",
      "source": [
        "from google.colab import drive\n",
        "drive.mount('/content/gdrive')"
      ],
      "metadata": {
        "colab": {
          "base_uri": "https://localhost:8080/"
        },
        "id": "j9Rj6v8mw7n5",
        "outputId": "eff20148-860f-44f0-8040-39318fa4949e"
      },
      "execution_count": 5,
      "outputs": [
        {
          "output_type": "stream",
          "name": "stdout",
          "text": [
            "Mounted at /content/gdrive\n"
          ]
        }
      ]
    },
    {
      "cell_type": "code",
      "source": [
        "PATH = '/content/gdrive/MyDrive/Colab Notebooks/Inteligência Artificial/Algoritmos Genéticos/flights.txt'"
      ],
      "metadata": {
        "id": "tn6b2wpcz0_S"
      },
      "execution_count": 6,
      "outputs": []
    },
    {
      "cell_type": "markdown",
      "source": [
        "#### Situação Problema\n",
        "\n",
        "Um grupo de amigos quer ir à Roma, na Itália. Entretanto, todos estão em capitais de países diferentes. Um está em Londres, outro em Dublin, outro em Bruxelas, outro em Paris, outro em Madrid e outro em Lisboa.\n",
        "\n",
        "Ao chegar em Roma, esse grupo de amigos irá pegar uma Van e fazer uma excursão por Roma. Depois irão pegar uma Van para voltar ao aeroporto e à suas respectivas cidades.\n",
        "\n",
        "A ideia é tentar encontrar voos que minimizem a espera das pessoas do grupo nos aeroportos. Por exemplo, quem vem de Bruxelas pode ter que esperar o amigo de Londres, por conta dos horários dos voos. Por exemplo, considere que a última pessoa a chegar em Roma chegará às 20h. Se a pessoa que vem de Bruxelas chegar às 10h da manhã, ele terá uma espera de 10h.\n",
        "Considere ainda que, na volta, a pessoa que embarcará no primeiro vôo sairá às 11h da manhã. Assim todos precisarão chegar lá pelo menos às 11h da manhã.\n",
        "\n",
        "Além disso, queremos minimizar os custos das pessoas ao comprar as passagens.\n"
      ],
      "metadata": {
        "id": "970AlsWNzS2N"
      }
    },
    {
      "cell_type": "markdown",
      "source": [
        "#### Objetivos\n",
        "\n",
        "1.   minimizar os preços das passagens;\n",
        "2.   minimizar o tempo de espera das pessoas nos aeroportos, tanto na ida quanto na volta."
      ],
      "metadata": {
        "id": "GVDO96T-zIqk"
      }
    },
    {
      "cell_type": "markdown",
      "source": [
        "* Abaixo temos uma lista de tuplas com todas as origens das pessoas do grupo."
      ],
      "metadata": {
        "id": "76S7gDiy0WvG"
      }
    },
    {
      "cell_type": "code",
      "source": [
        "pessoas = [('Lisbon', 'LIS'),\n",
        "           ('Madrid', 'MAD'),\n",
        "           ('Paris', 'CDG'),\n",
        "           ('Dublin', 'DUB'),\n",
        "           ('Brussels', 'BRU'),\n",
        "           ('London', 'LHR')]"
      ],
      "metadata": {
        "id": "U3EzzHVvdvue"
      },
      "execution_count": 9,
      "outputs": []
    },
    {
      "cell_type": "markdown",
      "source": [
        "* Aqui temos o destino, que é Roma (FCO):"
      ],
      "metadata": {
        "id": "Bu4A4TQa0dXt"
      }
    },
    {
      "cell_type": "code",
      "source": [
        "destino = 'FCO' # Roma"
      ],
      "metadata": {
        "id": "pxhDC9PFdxJE"
      },
      "execution_count": 10,
      "outputs": []
    },
    {
      "cell_type": "markdown",
      "source": [
        "* Precisamos carregar os dados dos voos do arquivo `flights.txt` e armezená-los em um dicionário no seguinte formtao:"
      ],
      "metadata": {
        "id": "L5zVPrB0evZx"
      }
    },
    {
      "cell_type": "code",
      "source": [
        "voos = {('BRU', 'FCO'): ['15:44', '18:55', 382]}"
      ],
      "metadata": {
        "id": "njbWKGw3d0j1"
      },
      "execution_count": 11,
      "outputs": []
    },
    {
      "cell_type": "markdown",
      "source": [
        "* Exemplo de dados de voo de Bruxelas para Roma - partida às 15:44, chegada às 18h55 e custa 382 dólares:"
      ],
      "metadata": {
        "id": "FR6XcS4De855"
      }
    },
    {
      "cell_type": "code",
      "source": [
        "voos[('BRU', 'FCO')]"
      ],
      "metadata": {
        "colab": {
          "base_uri": "https://localhost:8080/"
        },
        "id": "Ljbey1dEd0l_",
        "outputId": "472f719b-a81c-4f23-caff-51230d4ea206"
      },
      "execution_count": 12,
      "outputs": [
        {
          "output_type": "execute_result",
          "data": {
            "text/plain": [
              "['15:44', '18:55', 382]"
            ]
          },
          "metadata": {},
          "execution_count": 12
        }
      ]
    },
    {
      "cell_type": "markdown",
      "source": [
        "* Como os dados do voo ficam em uma tupla, podemos acessá-los utilizando índices:"
      ],
      "metadata": {
        "id": "uvQntJF4fJfU"
      }
    },
    {
      "cell_type": "code",
      "source": [
        "voos[('BRU', 'FCO')][0], voos[('BRU', 'FCO')][1], voos[('BRU', 'FCO')][2]"
      ],
      "metadata": {
        "colab": {
          "base_uri": "https://localhost:8080/"
        },
        "id": "zajHq-ZRd0nt",
        "outputId": "fb43f01e-1d9a-4fa4-e1c4-03dea3e7d717"
      },
      "execution_count": 13,
      "outputs": [
        {
          "output_type": "execute_result",
          "data": {
            "text/plain": [
              "('15:44', '18:55', 382)"
            ]
          },
          "metadata": {},
          "execution_count": 13
        }
      ]
    },
    {
      "cell_type": "markdown",
      "source": [
        "* Vamos iterar sobre os dados do arquivo `flights.txt` para carregar as dados dos voos no dicionário `voos`:"
      ],
      "metadata": {
        "id": "gcSltFIrfXJN"
      }
    },
    {
      "cell_type": "code",
      "execution_count": 14,
      "metadata": {
        "id": "EEOLPj_0bzy2"
      },
      "outputs": [],
      "source": [
        "voos = {}\n",
        "#for line in open('/content/flights.txt'):\n",
        "for line in open(PATH):\n",
        "    v_origem, v_destino, h_partida, h_chegada, preco_passagem = line.split(',')\n",
        "    voos.setdefault((v_origem, v_destino), [])\n",
        "    voos[(v_origem, v_destino)].append((h_partida, h_chegada, int(preco_passagem)))"
      ]
    },
    {
      "cell_type": "code",
      "source": [
        "voos"
      ],
      "metadata": {
        "colab": {
          "base_uri": "https://localhost:8080/"
        },
        "id": "FU71F-SbfxRC",
        "outputId": "907f0d12-8dea-49ef-ebc8-e4bb33879078"
      },
      "execution_count": 15,
      "outputs": [
        {
          "output_type": "execute_result",
          "data": {
            "text/plain": [
              "{('FCO', 'LIS'): [('6:19', '8:13', 239),\n",
              "  ('8:04', '10:59', 136),\n",
              "  ('9:31', '11:43', 210),\n",
              "  ('11:07', '13:24', 171),\n",
              "  ('12:31', '14:02', 234),\n",
              "  ('14:05', '15:47', 226),\n",
              "  ('15:07', '17:21', 129),\n",
              "  ('16:35', '18:56', 144),\n",
              "  ('18:25', '20:34', 205),\n",
              "  ('20:05', '21:44', 172)],\n",
              " ('LIS', 'FCO'): [('6:11', '8:31', 249),\n",
              "  ('7:39', '10:24', 219),\n",
              "  ('9:15', '12:03', 99),\n",
              "  ('11:08', '13:07', 175),\n",
              "  ('12:18', '14:56', 172),\n",
              "  ('13:37', '15:08', 250),\n",
              "  ('15:03', '16:42', 135),\n",
              "  ('16:51', '19:09', 147),\n",
              "  ('18:12', '20:17', 242),\n",
              "  ('20:05', '22:06', 261)],\n",
              " ('FCO', 'MAD'): [('6:03', '8:43', 219),\n",
              "  ('7:50', '10:08', 164),\n",
              "  ('9:11', '10:42', 172),\n",
              "  ('10:33', '13:11', 132),\n",
              "  ('12:08', '14:47', 231),\n",
              "  ('14:19', '17:09', 190),\n",
              "  ('15:04', '17:23', 189),\n",
              "  ('17:06', '20:00', 95),\n",
              "  ('18:33', '20:22', 143),\n",
              "  ('19:32', '21:25', 160)],\n",
              " ('MAD', 'FCO'): [('6:05', '8:32', 174),\n",
              "  ('8:25', '10:34', 157),\n",
              "  ('9:42', '11:32', 169),\n",
              "  ('11:01', '12:39', 260),\n",
              "  ('12:44', '14:17', 134),\n",
              "  ('14:22', '16:32', 126),\n",
              "  ('15:58', '18:40', 173),\n",
              "  ('16:43', '19:00', 246),\n",
              "  ('18:48', '21:45', 246),\n",
              "  ('19:50', '22:24', 269)],\n",
              " ('FCO', 'CDG'): [('6:33', '9:14', 172),\n",
              "  ('8:23', '11:07', 143),\n",
              "  ('9:25', '12:46', 295),\n",
              "  ('11:08', '14:38', 262),\n",
              "  ('12:37', '15:05', 170),\n",
              "  ('14:08', '16:09', 232),\n",
              "  ('15:23', '18:49', 150),\n",
              "  ('16:50', '19:26', 304),\n",
              "  ('18:07', '21:30', 355),\n",
              "  ('20:27', '23:42', 169)],\n",
              " ('CDG', 'FCO'): [('6:25', '9:30', 335),\n",
              "  ('7:34', '9:40', 324),\n",
              "  ('9:15', '12:29', 225),\n",
              "  ('11:28', '14:40', 248),\n",
              "  ('12:05', '15:30', 330),\n",
              "  ('14:01', '17:24', 338),\n",
              "  ('15:34', '18:11', 326),\n",
              "  ('17:07', '20:04', 291),\n",
              "  ('18:23', '21:35', 134),\n",
              "  ('19:53', '22:21', 173)],\n",
              " ('FCO', 'DUB'): [('6:39', '8:09', 86),\n",
              "  ('8:23', '10:28', 149),\n",
              "  ('9:58', '11:18', 130),\n",
              "  ('10:33', '12:03', 74),\n",
              "  ('12:08', '14:05', 142),\n",
              "  ('13:39', '15:30', 74),\n",
              "  ('15:25', '16:58', 62),\n",
              "  ('17:03', '18:03', 103),\n",
              "  ('18:24', '20:49', 124),\n",
              "  ('19:58', '21:23', 142)],\n",
              " ('DUB', 'FCO'): [('6:17', '8:26', 89),\n",
              "  ('8:04', '10:11', 95),\n",
              "  ('9:45', '11:50', 172),\n",
              "  ('11:16', '13:29', 83),\n",
              "  ('12:34', '15:02', 109),\n",
              "  ('13:40', '15:37', 138),\n",
              "  ('15:27', '17:18', 151),\n",
              "  ('17:11', '18:30', 108),\n",
              "  ('18:34', '19:36', 136),\n",
              "  ('20:17', '22:22', 102)],\n",
              " ('FCO', 'BRU'): [('6:09', '9:49', 414),\n",
              "  ('7:57', '11:15', 347),\n",
              "  ('9:49', '13:51', 229),\n",
              "  ('10:51', '14:16', 256),\n",
              "  ('12:20', '16:34', 500),\n",
              "  ('14:20', '17:32', 332),\n",
              "  ('15:49', '20:10', 497),\n",
              "  ('17:14', '20:59', 277),\n",
              "  ('18:44', '22:42', 351),\n",
              "  ('19:57', '23:15', 512)],\n",
              " ('BRU', 'FCO'): [('6:12', '10:22', 230),\n",
              "  ('7:53', '11:37', 433),\n",
              "  ('9:08', '12:12', 364),\n",
              "  ('10:30', '14:57', 290),\n",
              "  ('12:19', '15:25', 342),\n",
              "  ('13:54', '18:02', 294),\n",
              "  ('15:44', '18:55', 382),\n",
              "  ('16:52', '20:48', 448),\n",
              "  ('18:26', '21:29', 464),\n",
              "  ('20:07', '23:27', 473)],\n",
              " ('FCO', 'LHR'): [('6:58', '9:01', 238),\n",
              "  ('8:19', '11:16', 122),\n",
              "  ('9:58', '12:56', 249),\n",
              "  ('10:32', '13:16', 139),\n",
              "  ('12:01', '13:41', 267),\n",
              "  ('13:37', '15:33', 142),\n",
              "  ('15:50', '18:45', 243),\n",
              "  ('16:33', '18:15', 253),\n",
              "  ('18:17', '21:04', 259),\n",
              "  ('19:46', '21:45', 214)],\n",
              " ('LHR', 'FCO'): [('6:08', '8:06', 224),\n",
              "  ('8:27', '10:45', 139),\n",
              "  ('9:15', '12:14', 247),\n",
              "  ('10:53', '13:36', 189),\n",
              "  ('12:08', '14:59', 149),\n",
              "  ('13:40', '15:38', 137),\n",
              "  ('15:23', '17:25', 232),\n",
              "  ('17:08', '19:08', 262),\n",
              "  ('18:35', '20:28', 204),\n",
              "  ('20:30', '23:11', 114)]}"
            ]
          },
          "metadata": {},
          "execution_count": 15
        }
      ]
    },
    {
      "cell_type": "markdown",
      "source": [
        "* Exemplo de dados de voos de Lisboa para Roma:"
      ],
      "metadata": {
        "id": "4MF7QorPgCIv"
      }
    },
    {
      "cell_type": "code",
      "source": [
        "voos[(('LIS', 'FCO'))]"
      ],
      "metadata": {
        "colab": {
          "base_uri": "https://localhost:8080/"
        },
        "id": "_ynQzz3Nf0P_",
        "outputId": "d7c55441-fa18-49f0-9793-256c63401987"
      },
      "execution_count": null,
      "outputs": [
        {
          "output_type": "execute_result",
          "data": {
            "text/plain": [
              "[('6:11', '8:31', 249),\n",
              " ('7:39', '10:24', 219),\n",
              " ('9:15', '12:03', 99),\n",
              " ('11:08', '13:07', 175),\n",
              " ('12:18', '14:56', 172),\n",
              " ('13:37', '15:08', 250),\n",
              " ('15:03', '16:42', 135),\n",
              " ('16:51', '19:09', 147),\n",
              " ('18:12', '20:17', 242),\n",
              " ('20:05', '22:06', 261)]"
            ]
          },
          "metadata": {},
          "execution_count": 22
        }
      ]
    },
    {
      "cell_type": "markdown",
      "source": [
        "* Agora os voos de volta (Roma para Lisboa):"
      ],
      "metadata": {
        "id": "0YtIATM8gJ3h"
      }
    },
    {
      "cell_type": "code",
      "source": [
        "voos[('FCO', 'LIS')]"
      ],
      "metadata": {
        "colab": {
          "base_uri": "https://localhost:8080/"
        },
        "id": "n3b3XuxLgAfb",
        "outputId": "0a8e63b0-661a-40bc-a918-043cf2180331"
      },
      "execution_count": null,
      "outputs": [
        {
          "output_type": "execute_result",
          "data": {
            "text/plain": [
              "[('6:19', '8:13', 239),\n",
              " ('8:04', '10:59', 136),\n",
              " ('9:31', '11:43', 210),\n",
              " ('11:07', '13:24', 171),\n",
              " ('12:31', '14:02', 234),\n",
              " ('14:05', '15:47', 226),\n",
              " ('15:07', '17:21', 129),\n",
              " ('16:35', '18:56', 144),\n",
              " ('18:25', '20:34', 205),\n",
              " ('20:05', '21:44', 172)]"
            ]
          },
          "metadata": {},
          "execution_count": 23
        }
      ]
    },
    {
      "cell_type": "markdown",
      "source": [
        "* Para mapear as respostas, vamos usar uma lista com os índices dos voos escolhidos para cada cidade (ida e volta), conforme ordem especificada na lista `pessoas`. No exemplo abaixo, escolheríamos o voo de índice 1 para ida (Lisboa -> Roma) e o voo de índice 4 para a volta (Roma -> Lisboa) e assim sucessivamente para as outras cidades.\n",
        "> `[1,4, 3,2, 7,3, 6,3, 2,4, 5,3]`"
      ],
      "metadata": {
        "id": "VK4vvlT1ghsZ"
      }
    },
    {
      "cell_type": "code",
      "source": [
        "pessoas"
      ],
      "metadata": {
        "colab": {
          "base_uri": "https://localhost:8080/"
        },
        "id": "vOuEhzwWhv8A",
        "outputId": "3e8d852b-2d8b-4453-9524-e07b8211e0fb"
      },
      "execution_count": null,
      "outputs": [
        {
          "output_type": "execute_result",
          "data": {
            "text/plain": [
              "[('Lisbon', 'LIS'),\n",
              " ('Madrid', 'MAD'),\n",
              " ('Paris', 'CDG'),\n",
              " ('Dublin', 'DUB'),\n",
              " ('Brussels', 'BRU'),\n",
              " ('London', 'LHR')]"
            ]
          },
          "metadata": {},
          "execution_count": 24
        }
      ]
    },
    {
      "cell_type": "markdown",
      "source": [
        "* Precisamos agora de um função para imprimir esses voos de acordo com o vetor supracitado, que chamaremos de `calendario`:"
      ],
      "metadata": {
        "id": "l4sYp3kShFv6"
      }
    },
    {
      "cell_type": "code",
      "source": [
        "def imprime_calendario(calendario):\n",
        "    voo_id = -1\n",
        "    preco_total = 0\n",
        "    '''calendário possui pares sequenciais dos índices de voos de ida e volta, \n",
        "    por isso precisamos acessar dois índices (ida e volta) a cada interação, para cada cidade.\n",
        "    Dessa forma, precisamos percorrer len(calendario)//2 vezes a lista\n",
        "    '''\n",
        "    for i in range (len(calendario)//2):\n",
        "        nome = pessoas[i][0]\n",
        "        origem = pessoas[i][1]\n",
        "        voo_id += 1\n",
        "        voo_ida = voos[origem, destino][calendario[voo_id]]# índices \"pares\" são de ida\n",
        "        voo_id += 1\n",
        "        preco_total += voo_ida[2] # 2 é o último item da tupla - preço\n",
        "        voo_volta = voos[destino, origem][calendario[voo_id]]# índices \"pares\" são de ida\n",
        "        preco_total += voo_volta[2] # 2 é o último item da tupla - preço\n",
        "        print(f'{nome:<{10}}{origem:<{10}} {voo_ida[0]:<{5}}-{voo_ida[1]:<{5}} U${voo_ida[2]:<{3}} '+\n",
        "        f'{voo_volta[0]:<{5}}-{voo_volta[1]:<{5}} U${voo_volta[2]:<{3}}')\n",
        "    print(f'Preço total: U${preco_total:<{3}}')"
      ],
      "metadata": {
        "id": "WK4XV2m2hO_e"
      },
      "execution_count": 16,
      "outputs": []
    },
    {
      "cell_type": "markdown",
      "source": [
        "* Vamos testar a função:"
      ],
      "metadata": {
        "id": "EgLQfHIPlt51"
      }
    },
    {
      "cell_type": "code",
      "source": [
        "imprime_calendario([1,4, 3,2, 7,3, 6,3, 2,4, 5,3])"
      ],
      "metadata": {
        "colab": {
          "base_uri": "https://localhost:8080/"
        },
        "id": "ZTki2f_ci2VR",
        "outputId": "9cc64ceb-6b63-4878-f883-1bf59ea4275f"
      },
      "execution_count": null,
      "outputs": [
        {
          "output_type": "stream",
          "name": "stdout",
          "text": [
            "Lisbon    LIS        7:39 -10:24 U$219 12:31-14:02 U$234\n",
            "Madrid    MAD        11:01-12:39 U$260 9:11 -10:42 U$172\n",
            "Paris     CDG        17:07-20:04 U$291 11:08-14:38 U$262\n",
            "Dublin    DUB        15:27-17:18 U$151 10:33-12:03 U$74 \n",
            "Brussels  BRU        9:08 -12:12 U$364 12:20-16:34 U$500\n",
            "London    LHR        13:40-15:38 U$137 10:32-13:16 U$139\n",
            "Preço total: U$2803\n"
          ]
        }
      ]
    },
    {
      "cell_type": "markdown",
      "source": [
        "* Agora vamos criar uma função que vai receber como parâmetro os horários dos vôos no formato fornecido (H:M) para minutos, a fim de que possamos calcular o tempo de espera. Primeiro vamos ver como calcularemos esse tempo de espera, com base no exemplo acima:"
      ],
      "metadata": {
        "id": "nZhBnt3wzFZF"
      }
    },
    {
      "cell_type": "code",
      "source": [
        "#primeiro a chegar: 10:24, último a chegar: 20:04, tempo de espera:580 minutos\n",
        "10*60 + 24, 20*60 + 4, (20*60 + 4) - (10*60 + 24)"
      ],
      "metadata": {
        "colab": {
          "base_uri": "https://localhost:8080/"
        },
        "id": "AQ81Pa2ki98H",
        "outputId": "39b3e2e4-72cb-4d81-eec4-d978c4568f7f"
      },
      "execution_count": null,
      "outputs": [
        {
          "output_type": "execute_result",
          "data": {
            "text/plain": [
              "(624, 1204, 580)"
            ]
          },
          "metadata": {},
          "execution_count": 52
        }
      ]
    },
    {
      "cell_type": "code",
      "source": [
        "print(f'Maior tempo de espera no voo de ida é {580//60}h e {580%60}min')"
      ],
      "metadata": {
        "colab": {
          "base_uri": "https://localhost:8080/"
        },
        "id": "W6eZAFZU5Hit",
        "outputId": "e7da7179-2a98-4e7b-ac0c-f566c3b29375"
      },
      "execution_count": null,
      "outputs": [
        {
          "output_type": "stream",
          "name": "stdout",
          "text": [
            "Maior tempo de espera no voo de ida é 9h e 40min\n"
          ]
        }
      ]
    },
    {
      "cell_type": "markdown",
      "source": [
        "* Agora vamos a conversão:"
      ],
      "metadata": {
        "id": "YD-r97ZK1Iwb"
      }
    },
    {
      "cell_type": "code",
      "source": [
        "t = time.strptime('10:24', '%H:%M')"
      ],
      "metadata": {
        "id": "3HrgqOwt5XAS"
      },
      "execution_count": null,
      "outputs": []
    },
    {
      "cell_type": "code",
      "source": [
        "t"
      ],
      "metadata": {
        "colab": {
          "base_uri": "https://localhost:8080/"
        },
        "id": "-oBMXkKu50nb",
        "outputId": "5e2975d6-0528-4e78-8477-e2639df541b3"
      },
      "execution_count": null,
      "outputs": [
        {
          "output_type": "execute_result",
          "data": {
            "text/plain": [
              "time.struct_time(tm_year=1900, tm_mon=1, tm_mday=1, tm_hour=10, tm_min=24, tm_sec=0, tm_wday=0, tm_yday=1, tm_isdst=-1)"
            ]
          },
          "metadata": {},
          "execution_count": 57
        }
      ]
    },
    {
      "cell_type": "code",
      "source": [
        "t[3], t[4], t[3]*60 + t[4]"
      ],
      "metadata": {
        "colab": {
          "base_uri": "https://localhost:8080/"
        },
        "id": "9HfbmzQZ54Ch",
        "outputId": "fe4fad17-9cea-431d-c2de-d0000fa6becb"
      },
      "execution_count": null,
      "outputs": [
        {
          "output_type": "execute_result",
          "data": {
            "text/plain": [
              "(10, 24, 624)"
            ]
          },
          "metadata": {},
          "execution_count": 58
        }
      ]
    },
    {
      "cell_type": "code",
      "source": [
        "def get_minutos(hora):\n",
        "    t = time.strptime(hora, '%H:%M')\n",
        "    return t[3]*60 + t[4]"
      ],
      "metadata": {
        "id": "OkWaJ4BZ6A8C"
      },
      "execution_count": 17,
      "outputs": []
    },
    {
      "cell_type": "code",
      "source": [
        "get_minutos('10:24')"
      ],
      "metadata": {
        "colab": {
          "base_uri": "https://localhost:8080/"
        },
        "id": "5KcM_EAp6Vml",
        "outputId": "16006a79-befc-4a35-cd23-34fd6a36c161"
      },
      "execution_count": null,
      "outputs": [
        {
          "output_type": "execute_result",
          "data": {
            "text/plain": [
              "624"
            ]
          },
          "metadata": {},
          "execution_count": 65
        }
      ]
    },
    {
      "cell_type": "markdown",
      "source": [
        "### Função de avaliação (fitness function)"
      ],
      "metadata": {
        "id": "B4oKdPJE6mjF"
      }
    },
    {
      "cell_type": "markdown",
      "source": [
        "A função avaliativa deve calcular a espera total do grupo, tanto na ida quanto na volta (em minutos). Além disso, devemos calcular o preço total das passagens gasto por cada pessoa do grupo. Ao final, retornaremos a soma do preço total com a espera total, já que queremos otimizar essas duas medidas."
      ],
      "metadata": {
        "id": "Mj0HDiQ4bRRh"
      }
    },
    {
      "cell_type": "code",
      "source": [
        "def funcao_avaliacao(calendario):    \n",
        "    #inicializo com o pior valor possível para que possamos otimizá-lo:\n",
        "    preco_total = 0\n",
        "    ultima_chegada = 0\n",
        "    primeira_partida = get_minutos('23:59')\n",
        "\n",
        "    voo_id = -1\n",
        "    for i in range(len(calendario) // 2):\n",
        "        origem = pessoas[i][1]\n",
        "        voo_id += 1\n",
        "        voo_ida = voos[(origem, destino)][calendario[voo_id]]\n",
        "        voo_id += 1\n",
        "        voo_volta = voos[(destino, origem)][calendario[voo_id]]\n",
        "\n",
        "        preco_total += voo_ida[2]\n",
        "        preco_total += voo_volta[2]\n",
        "\n",
        "        if ultima_chegada < get_minutos(voo_ida[1]):\n",
        "            ultima_chegada = get_minutos(voo_ida[1])\n",
        "        if primeira_partida > get_minutos(voo_volta[0]):\n",
        "            primeira_partida = get_minutos(voo_volta[0])\n",
        "\n",
        "    espera_total = 0\n",
        "    voo_id = -1\n",
        "    for i in range(len(calendario) // 2):\n",
        "        origem = pessoas[i][1]\n",
        "        voo_id += 1\n",
        "        voo_ida = voos[(origem, destino)][calendario[voo_id]]\n",
        "        voo_id += 1\n",
        "        voo_volta = voos[(destino, origem)][calendario[voo_id]]\n",
        "\n",
        "        espera_total += ultima_chegada - get_minutos(voo_ida[1])\n",
        "        espera_total += get_minutos(voo_volta[0]) - primeira_partida\n",
        "\n",
        "    #o retorno é de acordo com o nosso objetivo: minimizar a espera e o preço.\n",
        "    return espera_total + preco_total"
      ],
      "metadata": {
        "id": "ipg24Ct76XJq"
      },
      "execution_count": 18,
      "outputs": []
    },
    {
      "cell_type": "markdown",
      "source": [
        "* Vamos agora testar nossa função avaliativa:"
      ],
      "metadata": {
        "id": "yzEBY1Ddbng_"
      }
    },
    {
      "cell_type": "code",
      "source": [
        "funcao_avaliacao([1,4, 3,1, 8,3, 6,3, 2,4, 5,3])"
      ],
      "metadata": {
        "colab": {
          "base_uri": "https://localhost:8080/"
        },
        "id": "2DdLRsCybm9P",
        "outputId": "4f202b09-aba5-4ad8-c304-117f8ce6b6e7"
      },
      "execution_count": null,
      "outputs": [
        {
          "output_type": "execute_result",
          "data": {
            "text/plain": [
              "6096"
            ]
          },
          "metadata": {},
          "execution_count": 67
        }
      ]
    },
    {
      "cell_type": "code",
      "source": [
        "imprime_calendario([1,4, 3,1, 8,3, 6,3, 2,4, 5,3])"
      ],
      "metadata": {
        "colab": {
          "base_uri": "https://localhost:8080/"
        },
        "id": "6QBunJl6bFL4",
        "outputId": "f89736a2-77ef-4082-ed2b-02161ba630c4"
      },
      "execution_count": null,
      "outputs": [
        {
          "output_type": "stream",
          "name": "stdout",
          "text": [
            "Lisbon    LIS        7:39 -10:24 U$219 12:31-14:02 U$234\n",
            "Madrid    MAD        11:01-12:39 U$260 7:50 -10:08 U$164\n",
            "Paris     CDG        18:23-21:35 U$134 11:08-14:38 U$262\n",
            "Dublin    DUB        15:27-17:18 U$151 10:33-12:03 U$74 \n",
            "Brussels  BRU        9:08 -12:12 U$364 12:20-16:34 U$500\n",
            "London    LHR        13:40-15:38 U$137 10:32-13:16 U$139\n",
            "Preço total: U$2638\n"
          ]
        }
      ]
    },
    {
      "cell_type": "markdown",
      "source": [
        "Agora precisamos definir o domínio, isto é, os valores mínimos e máximos que o algoritmo genético poderá escolher para definir os vôos escolhidos.\n",
        "\n",
        "Nesse caso, existem 10 voos possívies (0-9) para cada trecho (ida e volta). Assim teremos uma lista de 12 opções de 0-9."
      ],
      "metadata": {
        "id": "SHfA1fa_qk_s"
      }
    },
    {
      "cell_type": "code",
      "source": [
        "dominio = [(0, 9)] * (len(pessoas) * 2)\n",
        "dominio, len(dominio)"
      ],
      "metadata": {
        "colab": {
          "base_uri": "https://localhost:8080/"
        },
        "id": "frrTtF65qvH8",
        "outputId": "c7e378ee-abef-42ea-98b2-45c3138add90"
      },
      "execution_count": 19,
      "outputs": [
        {
          "output_type": "execute_result",
          "data": {
            "text/plain": [
              "([(0, 9),\n",
              "  (0, 9),\n",
              "  (0, 9),\n",
              "  (0, 9),\n",
              "  (0, 9),\n",
              "  (0, 9),\n",
              "  (0, 9),\n",
              "  (0, 9),\n",
              "  (0, 9),\n",
              "  (0, 9),\n",
              "  (0, 9),\n",
              "  (0, 9)],\n",
              " 12)"
            ]
          },
          "metadata": {},
          "execution_count": 19
        }
      ]
    },
    {
      "cell_type": "markdown",
      "source": [
        "#### Operador de Mutação"
      ],
      "metadata": {
        "id": "TCHhfBmGrGoW"
      }
    },
    {
      "cell_type": "code",
      "source": [
        "def mutacao(dominio, passo, calendario):\n",
        "  gene = random.randint(0, len(dominio) - 1)\n",
        "  print(gene)"
      ],
      "metadata": {
        "id": "9CeV2paGrQfV"
      },
      "execution_count": 20,
      "outputs": []
    },
    {
      "cell_type": "markdown",
      "source": [
        "* Nesso caso abaixo o gene sorteado para realizar a mutação foi o sétimo (índice 6)."
      ],
      "metadata": {
        "id": "3JUb1CKcrv2s"
      }
    },
    {
      "cell_type": "code",
      "source": [
        "mutacao(dominio, 1, [1,4, 3,1, 8,3, 6,3, 2,4, 5,3])"
      ],
      "metadata": {
        "colab": {
          "base_uri": "https://localhost:8080/"
        },
        "id": "mW5Egd3ZrU49",
        "outputId": "6a506705-439a-4e0c-f2f0-8988f1a92602"
      },
      "execution_count": null,
      "outputs": [
        {
          "output_type": "stream",
          "name": "stdout",
          "text": [
            "6\n"
          ]
        }
      ]
    },
    {
      "cell_type": "markdown",
      "source": [
        "* Nesso caso abaixo o gene sorteado para realizar a mutação foi o último (índice 11)."
      ],
      "metadata": {
        "id": "nxwT90A6r3ZJ"
      }
    },
    {
      "cell_type": "code",
      "source": [
        "mutacao(dominio, 1, [1,4, 3,1, 8,3, 6,3, 2,4, 5,3])"
      ],
      "metadata": {
        "colab": {
          "base_uri": "https://localhost:8080/"
        },
        "id": "NBjPFk8_rnIr",
        "outputId": "b941f0b0-8dfc-46f6-8b3b-976a669dce4e"
      },
      "execution_count": null,
      "outputs": [
        {
          "output_type": "stream",
          "name": "stdout",
          "text": [
            "11\n"
          ]
        }
      ]
    },
    {
      "cell_type": "markdown",
      "source": [
        "* Podemos ainda definir a probebilidade de que uma mutação ocorra, com base em um valor fixo de probabilidade (parâmetro `probabilidade` da função abaixo) e um valor sorteado entre 0-1 (usamos a fundação `random.random()`). No caso, se estabelecermos que o valor fixo será 0.2 e o valor sorteado for maior que o valor fixo, então não ocorrerá mutação. A mutação ocorrerá, caso contrário."
      ],
      "metadata": {
        "id": "YS6vWiAtsP_b"
      }
    },
    {
      "cell_type": "markdown",
      "source": [
        "* A mudatação será basicamente um decremento de 1, caso o valor do gene seja diferente de 0 e um incremento de 1, caso o valor do gene seja 0."
      ],
      "metadata": {
        "id": "BEgTWFgIuk_w"
      }
    },
    {
      "cell_type": "code",
      "source": [
        "def mutacao(dominio, passo, calendario, probabilidade):\n",
        "  gene = random.randint(0, len(dominio) - 1)\n",
        "  #print(gene)\n",
        "  mutante = calendario\n",
        "  if random.random() < probabilidade: # 0.02, 0.05\n",
        "    if calendario[gene] != dominio[gene][0]:\n",
        "      mutante = calendario[0:gene] + [calendario[gene] - passo] + calendario[gene + 1:]\n",
        "      #print(mutante)\n",
        "    else:\n",
        "      if calendario[gene] != dominio[gene][1]:\n",
        "        mutante = calendario[0:gene] + [calendario[gene] + passo] + calendario[gene + 1:]\n",
        "  return mutante"
      ],
      "metadata": {
        "id": "ZmKKdPuhqv8h"
      },
      "execution_count": 21,
      "outputs": []
    },
    {
      "cell_type": "markdown",
      "source": [
        "#### Crossover\n",
        "\n",
        "Escolheremos o meio da lista como ponto de corte para o crossover. Assim combinaremos a primeira metade de um indíviduo com a segunda metade de outro indivíduo."
      ],
      "metadata": {
        "id": "aWomzeYcvCjU"
      }
    },
    {
      "cell_type": "code",
      "source": [
        "def crossover(dominio, individuo1, individuo2):\n",
        "  gene = random.randint(1, len(dominio) - 2)#ponto de corte - não posso escolher nem a primeira nem a última posição\n",
        "  #print(gene)\n",
        "  return individuo1[0:gene] + individuo2[gene:]"
      ],
      "metadata": {
        "id": "ADw-dWv5vZxY"
      },
      "execution_count": 22,
      "outputs": []
    },
    {
      "cell_type": "code",
      "source": [
        "s1 = [1,4, 3,2, 7,3, 6,3, 2,4, 5,3]\n",
        "s2 = [0,1, 2,5, 8,9, 2,3, 5,1, 0,6]"
      ],
      "metadata": {
        "id": "OEp9hroev5Y8"
      },
      "execution_count": null,
      "outputs": []
    },
    {
      "cell_type": "code",
      "source": [
        "crossover(dominio, s1, s2)"
      ],
      "metadata": {
        "colab": {
          "base_uri": "https://localhost:8080/"
        },
        "id": "mU4sdjlrv78p",
        "outputId": "bf64a9e2-a875-4ab5-c104-5b1db21f5b2e"
      },
      "execution_count": null,
      "outputs": [
        {
          "output_type": "stream",
          "name": "stdout",
          "text": [
            "9\n"
          ]
        },
        {
          "output_type": "execute_result",
          "data": {
            "text/plain": [
              "[1, 4, 3, 2, 7, 3, 6, 3, 2, 1, 0, 6]"
            ]
          },
          "metadata": {},
          "execution_count": 87
        }
      ]
    },
    {
      "cell_type": "markdown",
      "source": [
        "### Construindo o fluxo do algoritmo genético"
      ],
      "metadata": {
        "id": "9aUg1MwSwTG4"
      }
    },
    {
      "cell_type": "markdown",
      "source": [
        "Iremos agora criar o função que processará o fluxo completo do algoritmo genético. Para tanto iremos utilizar os seguintes parâmetros:\n",
        "* `domínio`: que especifica os limites inferiores e superiores que podem ser escolhidos das opções de voos;\n",
        "* `funcao_avaliacao`: que retorno o quão apto é um dado indivíduo da população;\n",
        "* `tamanho_populacao`: aponta o quantidade de indivíduos que farão parte da população que será otimizada pelo algoritmo genético. Observe que neste algoritmo a população inicial será criada aleatoriamente;\n",
        "* `passo`: é o mesmo parâmetro utilizado na função de mutação. Serve para controlar a magnitude da mutação, isto é, o tamanho do incremento/decremento de um dado gene que sofrerá mutação;\n",
        "* `elitismo`: aponta o percentual da população que será selecionada para realizar crossover;\n",
        "* `numero_geracoes`: utilizado como critério de parada. Cada processo de seleção, crossover e mutação de uma dada população é chamado de geração, isto é, uma interação do algorimto genético. Ao chegar no número máximo de gerações passado neste parâmetro, o algoritmo pára.\n",
        "* `probabilidade_de_mutacao`: é a probibilidade de um de cada indíviduo de uma geração, eleito (após passar pela seleção), sofrer mutação.\n",
        "\n",
        "Esta função retornará o indivíduo mais apto da última geração avaliada. "
      ],
      "metadata": {
        "id": "PvreYysR0UNr"
      }
    },
    {
      "cell_type": "markdown",
      "source": [
        "Uma breve explicação de algumas variáveis utilizadas no algoritmo:\n",
        "\n",
        "* `individuo`: gera-se 12 números aleatórios e os coloca em uma lista chamada `individuo`. Em outras palavras: [random.randint(0, 9) for i in range(12)], entretanto, usaremos os limites inferiores e superiores (0-9) com base na variáveis domínio. Exemplo de um indivíduo: `[3, 7, 9, 9, 5, 9, 6, 5, 2, 8, 2, 9]`;\n",
        "* `populacao`: a cada interação no primeiro `for`, nós adicionamos o individuo na lista de individuos - `populacao`;\n",
        "* `numero_elitismo`: aqui nós fazemos a contagem de quantos indivíduos serão selecionados para realizar adaptação (crossover/mutação). Este é um cálculo simples com base na variável elitimso. Por exemplo, o elitismo for de 20% e o tamanho da população for 100, então `numero_elitismo = 0.20*100 = 20`;\n",
        "* `custos`: para cada indivíduo da população, eu calculo o custo dele com base na função de avaliação. Assim, `custo` será uma lista contendo de tuplas (custo_individuo, individuo);"
      ],
      "metadata": {
        "id": "uupkDd7q-Cui"
      }
    },
    {
      "cell_type": "code",
      "source": [
        "def algoritmo_genetico(dominio, funcao_avaliacao, tamanho_populacao = 100, passo = 1,\n",
        "                       elitismo = 0.2, numero_geracoes = 500, probabilidade_mutacao = 0.05):\n",
        "  populacao = []\n",
        "  for i in range(tamanho_populacao):\n",
        "    individuo = [random.randint(dominio[i][0], dominio[i][1]) for i in range(len(dominio))]\n",
        "    populacao.append(individuo)\n",
        "  #print(populacao)\n",
        "  #print(len(populacao))  \n",
        "  numero_elitismo = int(elitismo * tamanho_populacao)\n",
        "  #print(numero_elitismo)\n",
        "  #print('Tamanho da população: ', len(populacao))\n",
        "\n",
        "  for i in range(numero_geracoes):\n",
        "    custos = [(funcao_avaliacao(individuo), individuo) for individuo in populacao]\n",
        "    #print(custos)\n",
        "    custos.sort()\n",
        "    #print(custos)\n",
        "    individuos_ordenados = [individuo for (custo, individuo) in custos]\n",
        "    #print(individuos_ordenados)\n",
        "    populacao = individuos_ordenados[0:numero_elitismo] # 0:2\n",
        "    while len(populacao) < tamanho_populacao:\n",
        "      i1 = random.randint(0, numero_elitismo)\n",
        "      i2 = random.randint(0, numero_elitismo)\n",
        "      #print(i1, i2, individuos_ordenados[i1], individuos_ordenados[i2])\n",
        "      novo_individuo = crossover(dominio, individuos_ordenados[i1], individuos_ordenados[i2])\n",
        "      #print(novo_individuo)\n",
        "      mutacao_novo_individuo = mutacao(dominio, passo, novo_individuo, probabilidade_mutacao)\n",
        "      #print(novo_individuo)\n",
        "      #print(mutacao_novo_individuo)\n",
        "      #print()\n",
        "      populacao.append(mutacao_novo_individuo)\n",
        "\n",
        "    #print('Tamanho da população: ', len(populacao))\n",
        "  #print(custos)\n",
        "  return custos[0][1]"
      ],
      "metadata": {
        "id": "R5Eczo04v-5i"
      },
      "execution_count": 25,
      "outputs": []
    },
    {
      "cell_type": "markdown",
      "source": [
        "* Agora vamos testar nossa função:"
      ],
      "metadata": {
        "id": "lpgasgZbPwFB"
      }
    },
    {
      "cell_type": "code",
      "source": [
        "solucao = algoritmo_genetico(dominio, funcao_avaliacao, numero_geracoes = 100, tamanho_populacao=100, \n",
        "                             elitismo = 0.2, probabilidade_mutacao = 0.05)"
      ],
      "metadata": {
        "id": "ktlkoKuqPvoT"
      },
      "execution_count": 26,
      "outputs": []
    },
    {
      "cell_type": "code",
      "source": [
        "solucao"
      ],
      "metadata": {
        "colab": {
          "base_uri": "https://localhost:8080/"
        },
        "id": "31QKZQ9PPy8c",
        "outputId": "fb91000b-576c-400c-897d-2fee63b53fae"
      },
      "execution_count": 27,
      "outputs": [
        {
          "output_type": "execute_result",
          "data": {
            "text/plain": [
              "[7, 3, 6, 3, 6, 4, 6, 3, 5, 3, 7, 3]"
            ]
          },
          "metadata": {},
          "execution_count": 27
        }
      ]
    },
    {
      "cell_type": "code",
      "source": [
        "funcao_avaliacao(solucao)"
      ],
      "metadata": {
        "colab": {
          "base_uri": "https://localhost:8080/"
        },
        "id": "V5-AVShUP2X_",
        "outputId": "1ac3b3b5-e63f-40f5-ac5b-e5327ce5a8d7"
      },
      "execution_count": 28,
      "outputs": [
        {
          "output_type": "execute_result",
          "data": {
            "text/plain": [
              "2742"
            ]
          },
          "metadata": {},
          "execution_count": 28
        }
      ]
    },
    {
      "cell_type": "code",
      "source": [
        "imprime_calendario(solucao)"
      ],
      "metadata": {
        "colab": {
          "base_uri": "https://localhost:8080/"
        },
        "id": "oUX4nkYzP3Su",
        "outputId": "46498fcd-c451-445b-c92e-8278f177e7f0"
      },
      "execution_count": 29,
      "outputs": [
        {
          "output_type": "stream",
          "name": "stdout",
          "text": [
            "Lisbon    LIS        16:51-19:09 U$147 11:07-13:24 U$171\n",
            "Madrid    MAD        15:58-18:40 U$173 10:33-13:11 U$132\n",
            "Paris     CDG        15:34-18:11 U$326 12:37-15:05 U$170\n",
            "Dublin    DUB        15:27-17:18 U$151 10:33-12:03 U$74 \n",
            "Brussels  BRU        13:54-18:02 U$294 10:51-14:16 U$256\n",
            "London    LHR        17:08-19:08 U$262 10:32-13:16 U$139\n",
            "Preço total: U$2295\n"
          ]
        }
      ]
    },
    {
      "cell_type": "code",
      "source": [],
      "metadata": {
        "id": "x7E3nqqoP4Rj"
      },
      "execution_count": null,
      "outputs": []
    }
  ]
}